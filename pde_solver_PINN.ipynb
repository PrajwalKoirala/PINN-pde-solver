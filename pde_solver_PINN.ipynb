{
  "nbformat": 4,
  "nbformat_minor": 0,
  "metadata": {
    "colab": {
      "name": "pde_solver_PINN.ipynb",
      "provenance": [],
      "authorship_tag": "ABX9TyO270/XS0mFOl88U61vtXVc"
    },
    "kernelspec": {
      "name": "python3",
      "display_name": "Python 3"
    },
    "language_info": {
      "name": "python"
    }
  },
  "cells": [
    {
      "cell_type": "code",
      "metadata": {
        "id": "L9ZOHuj8WH3v"
      },
      "source": [
        "import tensorflow.compat.v1 as tf\n",
        "import numpy as np\n",
        "import matplotlib.pyplot as plt\n",
        "from tensorflow import keras\n",
        "tf.compat.v1.disable_eager_execution()"
      ],
      "execution_count": null,
      "outputs": []
    },
    {
      "cell_type": "code",
      "metadata": {
        "colab": {
          "base_uri": "https://localhost:8080/"
        },
        "id": "2ppcu53IWRYw",
        "outputId": "168c8da8-f14f-494d-810b-9d96dc5f4899"
      },
      "source": [
        "tf.reset_default_graph()\n",
        "t_input = tf.keras.Input(dtype=tf.float32, shape=[1,1,])\n",
        "flat1 = tf.keras.layers.BatchNormalization()(t_input)\n",
        "flat2 = tf.keras.layers.Dense(8, activation='tanh', kernel_initializer = tf.keras.initializers.RandomNormal(mean=0., stddev=0.5), kernel_regularizer= tf.keras.regularizers.l1(l1 = .1))(flat1)\n",
        "flat2 = tf.keras.layers.BatchNormalization()(flat2)\n",
        "flat3 = tf.keras.layers.Dense(16, activation='tanh', kernel_initializer = tf.keras.initializers.RandomNormal(mean=0., stddev=0.5), kernel_regularizer= tf.keras.regularizers.l1(l1 = .1))(flat2)\n",
        "flat3 = tf.keras.layers.BatchNormalization()(flat3)\n",
        "flat4 = tf.keras.layers.Dense(16, activation='tanh', kernel_initializer = tf.keras.initializers.RandomNormal(mean=0., stddev=0.5), kernel_regularizer= tf.keras.regularizers.l1(l1 = .1))(flat3)\n",
        "flat4 = tf.keras.layers.BatchNormalization()(flat4)\n",
        "flat5 = tf.keras.layers.Dense(8, activation='tanh', kernel_initializer = tf.keras.initializers.RandomNormal(mean=0., stddev=0.5), kernel_regularizer= tf.keras.regularizers.l1(l1 = .1))(flat4)\n",
        "flat5 = tf.keras.layers.BatchNormalization()(flat5)\n",
        "x_out = tf.keras.layers.Dense(1, kernel_initializer = tf.keras.initializers.RandomNormal(mean=0., stddev=0.5), kernel_regularizer=tf.keras.regularizers.l1(l1 = .1))(flat5) \n"
      ],
      "execution_count": null,
      "outputs": [
        {
          "output_type": "stream",
          "text": [
            "WARNING:tensorflow:From /usr/local/lib/python3.7/dist-packages/tensorflow/python/keras/initializers/initializers_v1.py:48: calling RandomNormal.__init__ (from tensorflow.python.ops.init_ops) with dtype is deprecated and will be removed in a future version.\n",
            "Instructions for updating:\n",
            "Call initializer instance with the dtype argument instead of passing it to the constructor\n"
          ],
          "name": "stdout"
        }
      ]
    },
    {
      "cell_type": "code",
      "metadata": {
        "id": "x_UAg0mXWUUL"
      },
      "source": [
        "x_t = tf.gradients(x_out, t_input)\n",
        "Cost = tf.reduce_mean((x_t - tf.math.cos(t_input))**2) \n",
        "train = tf.train.AdamOptimizer(learning_rate = 0.01).minimize(Cost)\n",
        "Cost_bc = tf.reduce_mean((x_out - 0)**2)\n",
        "train_bc = tf.train.AdamOptimizer(learning_rate = 0.01).minimize(Cost_bc)\n",
        "sess = tf.Session()\n",
        "sess.run(tf.global_variables_initializer())\n",
        "# model = tf.keras.Model(inputs=t_input, outputs= x_out)"
      ],
      "execution_count": null,
      "outputs": []
    },
    {
      "cell_type": "code",
      "metadata": {
        "colab": {
          "base_uri": "https://localhost:8080/",
          "height": 486
        },
        "id": "rTp41e5dWWvJ",
        "outputId": "5707ada5-a386-4717-9070-0ec1396ebea7"
      },
      "source": [
        "costs = []\n",
        "iters = 600\n",
        "train_t = np.array([0.01*i for i in range(1000)]).reshape(1000,1,1)\n",
        "for i in range(iters):\n",
        "  feed = {t_input : train_t}\n",
        "  _, cst1 = sess.run([train, Cost], feed_dict = feed)\n",
        "  _, cst2 = sess.run([train_bc, Cost_bc], feed_dict= {t_input : np.array(0).reshape(1,1,1)})\n",
        "  this_iter_cost = cst1 + cst2\n",
        "  costs.append(this_iter_cost.reshape(1))\n",
        "  if i%50==0:\n",
        "    print(this_iter_cost)\n",
        "plt.plot(costs) \n",
        "\n"
      ],
      "execution_count": null,
      "outputs": [
        {
          "output_type": "stream",
          "text": [
            "0.8383516\n",
            "0.20888814\n",
            "0.005684607\n",
            "0.0001969001\n",
            "0.00046318286\n",
            "0.003193451\n",
            "0.005955264\n",
            "0.0008069388\n",
            "0.00056596595\n",
            "0.001039769\n",
            "0.00026502772\n",
            "0.0009794104\n"
          ],
          "name": "stdout"
        },
        {
          "output_type": "execute_result",
          "data": {
            "text/plain": [
              "[<matplotlib.lines.Line2D at 0x7efd5c4c3450>]"
            ]
          },
          "metadata": {
            "tags": []
          },
          "execution_count": 4
        },
        {
          "output_type": "display_data",
          "data": {
            "image/png": "[encoded data removed]",
            "text/plain": [
              "<Figure size 432x288 with 1 Axes>"
            ]
          },
          "metadata": {
            "tags": [],
            "needs_background": "light"
          }
        }
      ]
    },
    {
      "cell_type": "code",
      "metadata": {
        "id": "feWSekVRWatz",
        "colab": {
          "base_uri": "https://localhost:8080/",
          "height": 282
        },
        "outputId": "9b2dd3ce-15d9-4384-c7e3-65bc688faa8d"
      },
      "source": [
        "steps = 1000\n",
        "plt.plot([0.01*n for n in range(steps)], np.array(sess.run(x_out, feed_dict={t_input : np.array([0.01*n for n in range(steps)]).reshape(1000,1,1)})).reshape(1000) )\n",
        "plt.plot([0.01*n for n in range(steps)], [np.math.sin(0.01*n) for n in range(steps)])\n",
        "#plt.plot([0.01*n for n in range(steps)], np.array(sess.run(x_t, feed_dict={t_input : np.array([0.01*n for n in range(steps)]).reshape(1000,1,1)})).reshape(1000) )\n",
        "plt.legend(['predicted', 'actual', 'x_t'])"
      ],
      "execution_count": null,
      "outputs": [
        {
          "output_type": "execute_result",
          "data": {
            "text/plain": [
              "<matplotlib.legend.Legend at 0x7efd5bf6f310>"
            ]
          },
          "metadata": {
            "tags": []
          },
          "execution_count": 5
        },
        {
          "output_type": "display_data",
          "data": {
            "image/png": "[encoded data removed]",
            "text/plain": [
              "<Figure size 432x288 with 1 Axes>"
            ]
          },
          "metadata": {
            "tags": [],
            "needs_background": "light"
          }
        }
      ]
    },
    {
      "cell_type": "code",
      "metadata": {
        "id": "dxfy3x1WWdJ-"
      },
      "source": [
        ""
      ],
      "execution_count": null,
      "outputs": []
    }
  ]
}